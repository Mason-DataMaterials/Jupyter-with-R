{
 "cells": [
  {
   "cell_type": "markdown",
   "metadata": {
    "slideshow": {
     "slide_type": "slide"
    }
   },
   "source": [
    "# Using Jupyter notebooks with R in the classroom\n",
    "\n",
    "<div style=\"display:flex;width:80%\">\n",
    "<img src=\"https://avatars1.githubusercontent.com/u/7388996?v=3&s=400\" alt=\"Jupyter logo\" style=\"height:200px\"/>\n",
    "<span style=\"font-size:300%;margin-top:10%\">+</span>\n",
    "<img src=\"https://www.r-project.org/logo/Rlogo.png\" alt=\"R logo\" style=\"height:150px\"/>\n",
    "</div>"
   ]
  },
  {
   "cell_type": "markdown",
   "metadata": {
    "slideshow": {
     "slide_type": "slide"
    }
   },
   "source": [
    "## Motivation: work at Imperial College London\n",
    "\n",
    "* A new introductory programming course for undergraduate geologists (2010)\n",
    "* Students are not computer science majors\n",
    "* A 5 year effort to find the most successful approach\n",
    "* C. T. Jacobs, G. J. Gorman, H. E. Rees, L. E. Craig (In Press)\n"
   ]
  },
  {
   "cell_type": "markdown",
   "metadata": {
    "slideshow": {
     "slide_type": "slide"
    }
   },
   "source": [
    "## Most successful teaching method\n",
    "\n",
    "* 'Flipped classroom' format -- read material beforehand with most of class devoted to worked examples\n",
    "* 10-15 minute bite-sized lectures with a worked example\n",
    "* 30 minute in-class exercise\n",
    "* Repeat (for the 3 hour course)"
   ]
  },
  {
   "cell_type": "markdown",
   "metadata": {
    "slideshow": {
     "slide_type": "slide"
    }
   },
   "source": [
    "## In-class teaching\n",
    "\n",
    "* Grad students were on hand in class, the ratio was about 10:1 students-to-TAs\n",
    "* Students used sticky notes — red and green — to signal they were done or needed help\n",
    "* Exercises were presented in Jupyter notebooks"
   ]
  },
  {
   "cell_type": "markdown",
   "metadata": {
    "slideshow": {
     "slide_type": "slide"
    }
   },
   "source": [
    "<div style=\"display:flex;width:80%\">\n",
    "<img src=\"https://avatars1.githubusercontent.com/u/7388996?v=3&s=400\" alt=\"Jupyter logo\" style=\"height:150px;\"/>\n",
    "<div style=\"width:50%;margin-top:50px\">\n",
    "Try it out: <br/>\n",
    "<a href=\"http://54.82.252.54:8000/\">http://54.82.252.54:8000/</a>\n",
    "</div>\n",
    "</div>"
   ]
  },
  {
   "cell_type": "markdown",
   "metadata": {
    "slideshow": {
     "slide_type": "slide"
    }
   },
   "source": [
    "# What you need to do this yourself\n",
    "\n",
    "- To be able to create the notebook\n",
    "- To be able to serve the notebook"
   ]
  },
  {
   "cell_type": "markdown",
   "metadata": {
    "slideshow": {
     "slide_type": "slide"
    }
   },
   "source": [
    "## Creating the notebook\n",
    "<img src=\"https://upload.wikimedia.org/wikipedia/en/thumb/c/cd/Anaconda_Logo.png/200px-Anaconda_Logo.png\" alt=\"Anaconda Logo\" style=\"margin:20px;padding-left:80px\"/>"
   ]
  },
  {
   "cell_type": "markdown",
   "metadata": {
    "slideshow": {
     "slide_type": "slide"
    }
   },
   "source": [
    "### Quick details for creating the notebook\n",
    "\n",
    "1. Anaconda provides prepackaged Jupyter notebooks and the IRkernel.\n",
    "2. Create a separate environment:\n",
    "```\n",
    "conda create -n jupyter_IRKernel python=3 anaconda\n",
    "```\n",
    "3. Get the packages you need, starting with Anaconda's \"R essentials\":\n",
    "```\n",
    "conda install -c r -n jupyter_IRKernel r-essentials\n",
    "```\n",
    "4. Activate the new environment:\n",
    "```\n",
    "source activate jupyter_IRKernel\n",
    "```\n",
    "5. Start the local notebook server, and begin editing:\n",
    "```\n",
    "jupyter notebook\n",
    "```"
   ]
  },
  {
   "cell_type": "markdown",
   "metadata": {
    "slideshow": {
     "slide_type": "slide"
    }
   },
   "source": [
    "## Creating the server\n",
    "\n",
    "<div style=\"display:flex;width:80%;margin:30px;\">\n",
    "<img src=\"https://www.docker.com/sites/default/files/legal/small_v.png\" alt=\"Docker logo\" style=\"height:180px\"/>\n",
    "<span style=\"font-size:300%;margin-top:10%\">+</span>\n",
    "<img src=\"https://avatars1.githubusercontent.com/u/7388996?v=3&s=400\" alt=\"Jupyter logo\" style=\"height:150px\"/>\n",
    "</div>"
   ]
  },
  {
   "cell_type": "markdown",
   "metadata": {
    "slideshow": {
     "slide_type": "slide"
    }
   },
   "source": [
    "### Quick details for creating the server\n",
    "\n",
    "1. Install Docker on a Linux-like machine: https://docs.docker.com/engine/installation\n",
    "2. Add your notebook(s) and data to a Docker Image that starts from Jupyter's pre-built image with IRkernel:\n",
    "```\n",
    "FROM jupyter/r-notebook\n",
    "\n",
    "# Add my own R file\n",
    "COPY jacobs2016data_0.1.tar.gz /home/$NB_USER/work\n",
    "\n",
    "# Add the notebook\n",
    "COPY example-Jupyter-R.ipynb  /home/$NB_USER/work/notebooks\n",
    "\n",
    "RUN cd /home/$NB_USER/work \\\n",
    "    && R CMD INSTALL jacobs2016data_0.1.tar.gz \\\n",
    "    && rm jacobs2016data_0.1.tar.gz \n",
    "```\n",
    "3. Build the image\n",
    "```\n",
    "docker build   --tag <your-dockerhub-id>/r-notebook-example  .\n",
    "```\n",
    "4. Run!  ... The commands are long for a slide, but they're also here:<br/>\n",
    "https://github.com/jupyter/tmpnb-deploy"
   ]
  },
  {
   "cell_type": "markdown",
   "metadata": {
    "slideshow": {
     "slide_type": "skip"
    }
   },
   "source": [
    "### Here's the whole command I used, verbatim\n",
    "\n",
    "<small>\n",
    "```\n",
    "### Start the redirection server to create temporary URLs\n",
    "sudo docker run --net=host -d -e CONFIGPROXY_AUTH_TOKEN=$TOKEN  \\\n",
    " --name=proxy jupyter/configurable-http-proxy  \\\n",
    " --default-target http://127.0.0.1:9999\n",
    "\n",
    "### Start the actual notebook server which spawns new temporary notebooks\n",
    "sudo docker run --net=host -d -e CONFIGPROXY_AUTH_TOKEN=$TOKEN   \\\n",
    "  -v /var/run/docker.sock:/docker.sock  jupyter/tmpnb python orchestrate.py  \\\n",
    "  --image='tanya/r-notebook-example'  \\\n",
    "  --redirect-uri='notebooks/example-Jupyter-R.ipynb'  \\\n",
    "  --pool-size=3  \\\n",
    "  --command=\"jupyter notebook notebooks/example-Jupyter-R.ipynb --NotebookApp.base_url={base_path} --ip=0.0.0.0 --port {port}\"\n",
    "```\n",
    "</small>"
   ]
  },
  {
   "cell_type": "markdown",
   "metadata": {
    "slideshow": {
     "slide_type": "slide"
    }
   },
   "source": [
    "# Takeaways\n",
    "\n",
    "* Bite-sized teaching alternating with hands-on work in class yields good performance _and_ student satisfaction\n",
    "* Jupyter notebooks served on JupyterHub or (like now) using tmpnb can be used to provide a prepared, platform-independent coding environment"
   ]
  },
  {
   "cell_type": "markdown",
   "metadata": {
    "slideshow": {
     "slide_type": "slide"
    }
   },
   "source": [
    "# Thank you.  Related links:\n",
    "\n",
    "## References\n",
    "* C. T. Jacobs, G. J. Gorman, H. E. Rees, L. E. Craig (In Press). Experiences with efficient methodologies for teaching computer programming to geoscientists. Journal of Geoscience Education. Pre-print: http://arxiv.org/abs/1505.05425\n",
    "* Related blog post: http://software-carpentry.org/blog/2016/06/teaching-python-to-undergraduate-geoscientists.html\n",
    "* Related slides: http://christianjacobs.uk/hen-2016-sticky-notes\n",
    "\n",
    "## Documentation\n",
    "* Jupyter main page: http://jupyter.org/\n",
    "* IRkernel main page: https://irkernel.github.io/\n",
    "* JupyterHub tutorial: http://jupyterhub-tutorial.readthedocs.io/en/latest/JupyterHub-Tutorial.html\n",
    "* tmpnb GitHub page: https://github.com/jupyter/tmpnb\n",
    "\n",
    "## Resources\n",
    "* The executable notebook from this talk: http://54.82.252.54:8000/\n",
    "* The GitHub repo behind the slides: \n",
    "* Today's slides:\n",
    "* Using Anaconda with R: https://www.continuum.io/conda-for-r\n",
    "* The Anaconda R repository: https://anaconda.org/r"
   ]
  }
 ],
 "metadata": {
  "celltoolbar": "Slideshow",
  "kernelspec": {
   "display_name": "R",
   "language": "R",
   "name": "ir"
  },
  "language_info": {
   "codemirror_mode": "r",
   "file_extension": ".r",
   "mimetype": "text/x-r-source",
   "name": "R",
   "pygments_lexer": "r",
   "version": "3.2.2"
  }
 },
 "nbformat": 4,
 "nbformat_minor": 0
}
