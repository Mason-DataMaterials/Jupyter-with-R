{
 "cells": [
  {
   "cell_type": "markdown",
   "metadata": {
    "slideshow": {
     "slide_type": "slide"
    }
   },
   "source": [
    "# Using Jupyter notebooks with R in the classroom\n",
    "\n",
    "<div style=\"display:flex;margin: 20px 10%\">\n",
    "<img src=\"https://avatars1.githubusercontent.com/u/7388996?v=3&s=400\" alt=\"Jupyter logo\" style=\"height:200px\"/>\n",
    "<div style=\"font-size:300%;margin-top:10%;width:42px\">+</div>\n",
    "<img src=\"https://www.r-project.org/logo/Rlogo.png\" alt=\"R logo\" style=\"height:150px\"/>\n",
    "</div>\n",
    "<div style=\"text-align:center;width:100%;\">\n",
    "useR!2016<br/>\n",
    "Tanya Schlusser\n",
    "</div>"
   ]
  },
  {
   "cell_type": "markdown",
   "metadata": {
    "slideshow": {
     "slide_type": "slide"
    }
   },
   "source": [
    "## Motivation: work at Imperial College London\n",
    "\n",
    "* A new introductory programming course for undergraduate geologists (2010)\n",
    "* Students are _not_ computer science majors\n",
    "* A 5 year effort to find the most successful approach\n",
    "* C. T. Jacobs, G. J. Gorman, H. E. Rees, L. E. Craig (In Press)\n"
   ]
  },
  {
   "cell_type": "markdown",
   "metadata": {
    "slideshow": {
     "slide_type": "slide"
    }
   },
   "source": [
    "## Most successful teaching method\n",
    "\n",
    "* 'Flipped classroom' format -- read material beforehand with most of class devoted to worked examples\n",
    "* 10-15 minute bite-sized lectures with a worked example\n",
    "* 30 minute in-class exercise\n",
    "* Repeat (for the 3 hour course)"
   ]
  },
  {
   "cell_type": "markdown",
   "metadata": {
    "slideshow": {
     "slide_type": "slide"
    }
   },
   "source": [
    "## In-class teaching\n",
    "\n",
    "* Grad students were on hand in class, the ratio was about 10:1 students-to-TAs\n",
    "* Students used sticky notes — red and green — to signal they were done or needed help\n",
    "* Exercises were presented in Jupyter notebooks"
   ]
  },
  {
   "cell_type": "markdown",
   "metadata": {
    "slideshow": {
     "slide_type": "slide"
    }
   },
   "source": [
    "<div style=\"display:flex;width:80%\">\n",
    "<img src=\"https://avatars1.githubusercontent.com/u/7388996?v=3&s=400\" alt=\"Jupyter logo\" style=\"height:200px;\"/>\n",
    "<div style=\"width:50%;font-size:200%;line-height:180%\">\n",
    "Try it out: <br/>\n",
    "<a href=\"http://jupyter.rocks\">http://jupyter.rocks</a>\n",
    "</div>\n",
    "</div>"
   ]
  },
  {
   "cell_type": "markdown",
   "metadata": {
    "slideshow": {
     "slide_type": "slide"
    }
   },
   "source": [
    "# Benefits\n",
    "\n",
    "- Libraries and data sets are preloaded\n",
    "- Simple questions can be answered immediately in class\n",
    "- Students can help each other"
   ]
  },
  {
   "cell_type": "markdown",
   "metadata": {
    "slideshow": {
     "slide_type": "slide"
    }
   },
   "source": [
    "# Caveats\n",
    "\n",
    "This is a presentation environment, not a coding one.\n",
    "\n",
    "- Don't do short examples, do long exercises like with Jacobs _et al._ <br/><small>(or students just click and run without understanding)</small>\n",
    "- Use RStudio or plain R for work <br/><small>(or students might have trouble understanding the sequential nature of coding)</small>\n",
    "- The paper had a 1:10 TA - to - student ratio in class. <br/><small>(But these were first-year undergraduates.)</small> "
   ]
  },
  {
   "cell_type": "markdown",
   "metadata": {
    "slideshow": {
     "slide_type": "slide"
    }
   },
   "source": [
    "# What you need to do this yourself\n",
    "\n",
    "- To be able to create the notebook\n",
    "- To be able to serve the notebook"
   ]
  },
  {
   "cell_type": "markdown",
   "metadata": {
    "slideshow": {
     "slide_type": "slide"
    }
   },
   "source": [
    "## Creating the notebook\n",
    "\n",
    "<div style=\"display:flex;width:100%;padding:0\">\n",
    "<div style=\"width:300px;overflow:hidden;float:right\"><img src=\"https://upload.wikimedia.org/wikipedia/en/thumb/c/cd/Anaconda_Logo.png/200px-Anaconda_Logo.png\" alt=\"Anaconda Logo\" style=\"margin:20px;padding-left:80px\"/>\n",
    "</div>\n",
    "\n",
    "<ul>\n",
    "<li>Anaconda is a commercial Python redistribution</li>\n",
    "<li>Jupyter is a Python application, and is bundled with Anaconda</li>\n",
    "<li>It also provides a repository for popular R libraries</li>\n",
    "</ul>\n",
    "\n",
    "</div>\n",
    "\n"
   ]
  },
  {
   "cell_type": "markdown",
   "metadata": {
    "slideshow": {
     "slide_type": "slide"
    }
   },
   "source": [
    "### Quick details for creating the notebook\n",
    "\n",
    "1. First, install Anaconda (anaconda.org)\n",
    "2. Next, create the environment. (It will be isolated from your regular R environment.) In a terminal shell, type:\n",
    "```shell\n",
    "$ conda create -n jupyter_IRKernel python=3 anaconda\n",
    "$ conda install -c r -n jupyter_IRKernel r-essentials\n",
    "```\n",
    "3. When you want to use the environment, activate it:\n",
    "```shell\n",
    "$ source activate jupyter_IRKernel\n",
    "$ jupyter notebook  # ... and start a local server\n",
    "```"
   ]
  },
  {
   "cell_type": "markdown",
   "metadata": {
    "slideshow": {
     "slide_type": "slide"
    }
   },
   "source": [
    "# Create the server\n",
    "\n",
    "<div style=\"display:flex;width:80%;margin:30px;\">\n",
    "<img src=\"https://www.docker.com/sites/default/files/legal/small_v.png\" alt=\"Docker logo\" style=\"height:180px\"/>\n",
    "<span style=\"font-size:300%;margin-top:10%\">+</span>\n",
    "<img src=\"https://avatars1.githubusercontent.com/u/7388996?v=3&s=400\" alt=\"Jupyter logo\" style=\"height:160px\"/>\n",
    "</div>"
   ]
  },
  {
   "cell_type": "markdown",
   "metadata": {
    "slideshow": {
     "slide_type": "slide"
    }
   },
   "source": [
    "## Quick details for serving your notebook\n",
    "\n",
    "1. Install Docker on a Linux-like machine: https://docs.docker.com/engine/installation\n",
    "2. Add your notebook(s) and data to a Dockerfile that starts from Jupyter's pre-built image with IRkernel, and build the Docker Image.\n",
    "3. Build the image.\n",
    "4. Run!  ... The commands are long for a slide, but they're also here:<br/>\n",
    "https://github.com/jupyter/tmpnb-deploy"
   ]
  },
  {
   "cell_type": "markdown",
   "metadata": {
    "slideshow": {
     "slide_type": "skip"
    }
   },
   "source": [
    "### Step 1: Install Docker -- the same as in the link\n",
    "\n",
    "```shell\n",
    "sudo apt-get update\n",
    "sudo apt-get install -y apt-transport-https ca-certificates\n",
    "sudo apt-key adv --keyserver hkp://p80.pool.sks-keyservers.net:80 --recv-keys 58118E89F3A912897C070ADBF76221572C52609D\n",
    "echo \"deb https://apt.dockerproject.org/repo debian-jessie main\" > docker.list\n",
    "sudo mv docker.list /etc/apt/sources.list.d/docker.list\n",
    "sudo apt-get update\n",
    "sudo apt-get install -y docker-engine\n",
    "sudo service docker start\n",
    "```\n",
    "\n",
    "\n",
    "I'm just showing it for completeness."
   ]
  },
  {
   "cell_type": "markdown",
   "metadata": {
    "slideshow": {
     "slide_type": "slide"
    }
   },
   "source": [
    "### Step 2:  make a Docker image with your notebook\n",
    "\n",
    "#### The full Dockerfile for today's example\n",
    "\n",
    "```shell\n",
    "FROM jupyter/r-notebook\n",
    "\n",
    "# Add my own R file\n",
    "COPY jacobs2016data_0.1.tar.gz /home/$NB_USER/work\n",
    "\n",
    "# Add the notebook\n",
    "COPY example-Jupyter-R.ipynb  /home/$NB_USER/work/notebooks\n",
    "\n",
    "RUN cd /home/$NB_USER/work \\\n",
    "    && R CMD INSTALL jacobs2016data_0.1.tar.gz \\\n",
    "    && rm jacobs2016data_0.1.tar.gz \n",
    "```"
   ]
  },
  {
   "cell_type": "markdown",
   "metadata": {
    "slideshow": {
     "slide_type": "slide"
    }
   },
   "source": [
    "### Step 2 (continued...):  make a Docker image with your notebook\n",
    "\n",
    "#### The command to build the Docker Image \n",
    "\n",
    "From within the directory containing the Dockerfile and my Jupyter notebook:\n",
    "\n",
    "```shell\n",
    "$ docker build  --tag <dockerhub-id>/<image-name>  .\n",
    "$ # e.g.\n",
    "$ docker build --tag tanya/r-notebook .\n",
    "```\n"
   ]
  },
  {
   "cell_type": "markdown",
   "metadata": {
    "slideshow": {
     "slide_type": "skip"
    }
   },
   "source": [
    "### Step 3: here's the whole command I used, verbatim\n",
    "\n",
    "It's almost the same as on https://github.com/jupyter/tmpnb\n",
    "\n",
    "<small>\n",
    "```shell\n",
    "export TOKEN=$( head -c 30 /dev/urandom | xxd -p )\n",
    "\n",
    "### Start the redirection server to create temporary URLs\n",
    "sudo docker run --net=host -d -e CONFIGPROXY_AUTH_TOKEN=$TOKEN  \\\n",
    " --name=proxy jupyter/configurable-http-proxy  \\\n",
    " --default-target http://127.0.0.1:9999\n",
    "\n",
    "### Start the actual notebook server which spawns new temporary notebooks\n",
    "sudo docker run --net=host -d -e CONFIGPROXY_AUTH_TOKEN=$TOKEN   \\\n",
    "  -v /var/run/docker.sock:/docker.sock  jupyter/tmpnb python orchestrate.py  \\\n",
    "  --image='tanya/r-notebook-example'  \\\n",
    "  --redirect-uri='notebooks/example-Jupyter-R.ipynb'  \\\n",
    "  --pool-size=8  \\\n",
    "  --command=\"jupyter notebook notebooks/example-Jupyter-R.ipynb --NotebookApp.base_url={base_path} --ip=0.0.0.0 --port {port}\"\n",
    "```\n",
    "</small>"
   ]
  },
  {
   "cell_type": "markdown",
   "metadata": {
    "slideshow": {
     "slide_type": "slide"
    }
   },
   "source": [
    "# Takeaways\n",
    "\n",
    "* Bite-sized teaching alternating with hands-on work in class yields good performance _and_ student satisfaction\n",
    "* Jupyter notebooks served on JupyterHub or (like now) using tmpnb can be used to provide a prepared, platform-independent coding environment"
   ]
  },
  {
   "cell_type": "markdown",
   "metadata": {
    "slideshow": {
     "slide_type": "slide"
    }
   },
   "source": [
    "# Thank you.  Related links:\n",
    "\n",
    "## References\n",
    "* C. T. Jacobs, G. J. Gorman, H. E. Rees, L. E. Craig (In Press). Experiences with efficient methodologies for teaching computer programming to geoscientists. Journal of Geoscience Education. Pre-print: http://arxiv.org/abs/1505.05425\n",
    "* Related blog post: http://software-carpentry.org/blog/2016/06/teaching-python-to-undergraduate-geoscientists.html\n",
    "* Related slides: http://christianjacobs.uk/hen-2016-sticky-notes"
   ]
  },
  {
   "cell_type": "markdown",
   "metadata": {
    "slideshow": {
     "slide_type": "slide"
    }
   },
   "source": [
    "## Documentation\n",
    "* Jupyter main page: http://jupyter.org/\n",
    "* IRkernel main page: https://irkernel.github.io/\n",
    "* JupyterHub tutorial: http://jupyterhub-tutorial.readthedocs.io/en/latest/JupyterHub-Tutorial.html\n",
    "* tmpnb GitHub page: https://github.com/jupyter/tmpnb\n",
    "\n",
    "## Resources\n",
    "* The executable notebook from this talk: http://54.82.252.54:8000/\n",
    "* The GitHub repo behind the slides: https://github.com/tanyaschlusser/Jupyter-with-R\n",
    "* Today's slides: https://tanyaschlusser.github.io/Jupyter-with-R/\n",
    "* Using Anaconda with R: https://www.continuum.io/conda-for-r\n",
    "* The Anaconda R repository: https://anaconda.org/r"
   ]
  }
 ],
 "metadata": {
  "celltoolbar": "Slideshow",
  "kernelspec": {
   "display_name": "R",
   "language": "R",
   "name": "ir"
  },
  "language_info": {
   "codemirror_mode": "r",
   "file_extension": ".r",
   "mimetype": "text/x-r-source",
   "name": "R",
   "pygments_lexer": "r",
   "version": "3.2.2"
  }
 },
 "nbformat": 4,
 "nbformat_minor": 0
}
