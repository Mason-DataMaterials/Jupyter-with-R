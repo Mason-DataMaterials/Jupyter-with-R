{
 "cells": [
  {
   "cell_type": "markdown",
   "metadata": {},
   "source": [
    "# Example Jupyter R notebook\n",
    "\n",
    "Jupyter is a web application that presents notebooks (like this)."
   ]
  },
  {
   "cell_type": "markdown",
   "metadata": {},
   "source": [
    "## Example cell\n",
    "\n",
    "The notebook is divided into \"cells\" that can be tagged for _Markdown_ or _Code_ (dropdown above). \n",
    "\n",
    "* Double-click to edit a cell.\n",
    "* Shift-enter to evaluate the cell.\n",
    "* Jupyter sends the contents of the cell back to a \"Kernel\" running on the server to evaluate.\n",
    "* If there is output, it's displayed below the cell."
   ]
  },
  {
   "cell_type": "markdown",
   "metadata": {},
   "source": [
    "## You can preload data and libraries\n",
    "\n",
    "For example, there are preloaded datasets in `jacobs2016data`:\n",
    "- `class.data`\n",
    "- `feedback.topics`\n",
    "- `lecturer.scores`\n",
    "- `module.scores`\n",
    "- `student.demographics`"
   ]
  },
  {
   "cell_type": "code",
   "execution_count": 1,
   "metadata": {
    "collapsed": true
   },
   "outputs": [],
   "source": [
    "library(jacobs2016data)\n",
    "data(class.data)\n",
    "data(student.demographics)\n",
    "data(lecturer.scores)\n",
    "data(module.scores)\n",
    "data(feedback.topics)"
   ]
  },
  {
   "cell_type": "code",
   "execution_count": null,
   "metadata": {
    "collapsed": false
   },
   "outputs": [],
   "source": [
    "class.size"
   ]
  },
  {
   "cell_type": "code",
   "execution_count": null,
   "metadata": {
    "collapsed": false
   },
   "outputs": [],
   "source": [
    "options(repr.plot.width=7, repr.plot.height=3.2)  # fit in browser display\n",
    "par(mfrow=c(1,2))\n",
    "boxplot(score~year, data=lecturer.scores, col=\"maroon\", main=\"Lecturer scores\")\n",
    "boxplot(score~year, data=module.scores, col=\"maroon\", main=\"Module scores\")\n",
    "par(mfrow=c(1,1))"
   ]
  },
  {
   "cell_type": "code",
   "execution_count": null,
   "metadata": {
    "collapsed": false
   },
   "outputs": [],
   "source": [
    "# names(feedback.topics) --> 'year' 'topic' 'fraction.of.feedback'\n",
    "library(ggplot2)\n",
    "ggplot(feedback.topics, aes(x = year, y = fraction.of.feedback, fill = topic)) + \n",
    "  geom_bar(stat = 'identity', position = 'stack')"
   ]
  },
  {
   "cell_type": "code",
   "execution_count": null,
   "metadata": {
    "collapsed": false
   },
   "outputs": [],
   "source": [
    "options(repr.plot.width=4.2, repr.plot.height=3.8)\n",
    "class_year = 2010\n",
    "\n",
    "show.feedback <- function(year, highlight, methodology) {\n",
    "    df = feedback.topics[feedback.topics$year == year,]\n",
    "    pie(df$fraction.of.feedback,\n",
    "        labels=sprintf('%s\\n%d%%', df$topic, round(df$fraction.of.feedback*100)),\n",
    "        clockwise=T,\n",
    "        col=ifelse(df$topic %in% highlight, 'maroon', 'lightgray'),\n",
    "        main=sprintf('%d - %s',year, methodology))\n",
    "}"
   ]
  },
  {
   "cell_type": "code",
   "execution_count": null,
   "metadata": {
    "collapsed": false
   },
   "outputs": [],
   "source": [
    "show.feedback(2010, c('Pace'), 'Traditional lecture style')\n",
    "#show.feedback(2011, c('Pace', 'Support'), '3 extra hours of lab')\n",
    "#show.feedback(2012, c('Lecturer', 'Material'), 'YouTube videos + in-class work')\n",
    "#show.feedback(2013, c('Lecturer', 'Support'), 'Written lecture notes + in-class work')\n",
    "#show.feedback(2014, c('Support'), '10-min. lectures + sticky notes + in-class work')"
   ]
  }
 ],
 "metadata": {
  "kernelspec": {
   "display_name": "R",
   "language": "R",
   "name": "ir"
  },
  "language_info": {
   "codemirror_mode": "r",
   "file_extension": ".r",
   "mimetype": "text/x-r-source",
   "name": "R",
   "pygments_lexer": "r",
   "version": "3.2.2"
  }
 },
 "nbformat": 4,
 "nbformat_minor": 0
}
